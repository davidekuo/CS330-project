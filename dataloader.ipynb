{
 "cells": [
  {
   "cell_type": "code",
   "execution_count": 26,
   "metadata": {},
   "outputs": [],
   "source": [
    "import json\n",
    "from torch.utils.data import IterableDataset\n",
    "import pandas as pd\n",
    "import numpy as np"
   ]
  },
  {
   "cell_type": "code",
   "execution_count": 18,
   "metadata": {},
   "outputs": [],
   "source": [
    "# new_dict = {\"protein_target\": [], \"smiles_and_affinities\": []}\n",
    "# for prot_seq, val in data.items():\n",
    "#     new_dict[\"protein_target\"].append(prot_seq)\n",
    "#     smiles_and_affinities = []\n",
    "#     for tup in val:\n",
    "#         smiles_and_affinities.append((tup[1], tup[2]))\n",
    "#     new_dict[\"smiles_and_affinities\"].append(smiles_and_affinities)\n",
    "\n",
    "# with open('data/data.json', 'w') as fp:\n",
    "#     json.dump(new_dict, fp)"
   ]
  },
  {
   "cell_type": "code",
   "execution_count": 34,
   "metadata": {},
   "outputs": [],
   "source": [
    "# def binarize_by_median(smiles_and_affinities):\n",
    "#     affinities = list(map(lambda x: x[1], smiles_and_affinities))\n",
    "#     median_affinity = np.median(affinities)\n",
    "#     new_smiles_and_affinities = []\n",
    "#     for smiles, affinity in smiles_and_affinities:\n",
    "#         binary = int(affinity > median_affinity)\n",
    "#         new_smiles_and_affinities.append((smiles, binary))\n",
    "#     return new_smiles_and_affinities\n",
    "\n",
    "# df['smiles_and_affinities'] = df['smiles_and_affinities'].apply(binarize_by_median)\n",
    "\n",
    "# df.to_json('data/data.json')"
   ]
  },
  {
   "cell_type": "code",
   "execution_count": 44,
   "metadata": {},
   "outputs": [],
   "source": [
    "data_dict = json.load(open('data/data.json'))"
   ]
  },
  {
   "cell_type": "code",
   "execution_count": 45,
   "metadata": {},
   "outputs": [],
   "source": [
    "df = pd.DataFrame(data_dict)"
   ]
  },
  {
   "cell_type": "code",
   "execution_count": 48,
   "metadata": {},
   "outputs": [
    {
     "data": {
      "text/html": [
       "<div>\n",
       "<style scoped>\n",
       "    .dataframe tbody tr th:only-of-type {\n",
       "        vertical-align: middle;\n",
       "    }\n",
       "\n",
       "    .dataframe tbody tr th {\n",
       "        vertical-align: top;\n",
       "    }\n",
       "\n",
       "    .dataframe thead th {\n",
       "        text-align: right;\n",
       "    }\n",
       "</style>\n",
       "<table border=\"1\" class=\"dataframe\">\n",
       "  <thead>\n",
       "    <tr style=\"text-align: right;\">\n",
       "      <th></th>\n",
       "      <th>protein_target</th>\n",
       "      <th>smiles_and_affinities</th>\n",
       "    </tr>\n",
       "  </thead>\n",
       "  <tbody>\n",
       "    <tr>\n",
       "      <th>0</th>\n",
       "      <td>MPHEPHEPLTPPFSALPDPAGAPSRRQSRQRPQLSSDSPSAFRASR...</td>\n",
       "      <td>[[CC(C)N1NC(=C2C=c3cc(O)ccc3=N2)c2c(N)ncnc21, ...</td>\n",
       "    </tr>\n",
       "    <tr>\n",
       "      <th>1</th>\n",
       "      <td>MSHHWGYGKHNGPEHWHKDFPIAKGERQSPVDIDTHTAKYDPSLKP...</td>\n",
       "      <td>[[CNC(=O)c1ccc(S(N)(=O)=O)cc1, 0], [Nc1ccc(CC(...</td>\n",
       "    </tr>\n",
       "    <tr>\n",
       "      <th>2</th>\n",
       "      <td>MDPLNLSWYDDDLERQNWSRPFNGSEGKADRPHYNYYAMLLTLLIF...</td>\n",
       "      <td>[[Oc1cc2c(cc1O)C1c3ccccc3CNC1CC2, 0], [CC(C)CC...</td>\n",
       "    </tr>\n",
       "    <tr>\n",
       "      <th>3</th>\n",
       "      <td>MDRSKENCISGPVKATAPVGGPKRVLVTQQFPCQNPLPVNSGQAQR...</td>\n",
       "      <td>[[Cc1cc(Nc2nc(Sc3ccc(NC(=O)CN4CCC(O)C4)cc3)nn3...</td>\n",
       "    </tr>\n",
       "    <tr>\n",
       "      <th>4</th>\n",
       "      <td>MRVVVIGAGVIGLSTALCIHERYHSVLQPLDIKVYADRFTPLTTTD...</td>\n",
       "      <td>[[O=c1[nH]c2ccc(F)cc2cc1O, 1], [O=C(O)c1cc(CCc...</td>\n",
       "    </tr>\n",
       "    <tr>\n",
       "      <th>...</th>\n",
       "      <td>...</td>\n",
       "      <td>...</td>\n",
       "    </tr>\n",
       "    <tr>\n",
       "      <th>1042</th>\n",
       "      <td>MARARPPPPPSPPPGLLPLLPPLLLLPLLLLPAGCRALEETLMDTK...</td>\n",
       "      <td>[[Cc1ccc(O)cc1Nc1ccnc(Nc2cccc(C(N)=O)c2)n1, 1]...</td>\n",
       "    </tr>\n",
       "    <tr>\n",
       "      <th>1043</th>\n",
       "      <td>MRANDALQVLGLLFSLARGSEVGNSQAVCPGTLNGLSVTGDAENQY...</td>\n",
       "      <td>[[C=CC(=O)Nc1cc2c(Nc3ccc(F)c(Cl)c3)ncnc2cc1OCC...</td>\n",
       "    </tr>\n",
       "    <tr>\n",
       "      <th>1044</th>\n",
       "      <td>MDDKDIDKELRQKLNFSYCEETEIEGQKKVEESREASSQTPEKGEV...</td>\n",
       "      <td>[[Cc1cnc(Nc2ccc(OCCN3CCCC3)cc2)nc1Nc1cccc(S(=O...</td>\n",
       "    </tr>\n",
       "    <tr>\n",
       "      <th>1045</th>\n",
       "      <td>MAGWIQAQQLQGDALRQMQVLYGQHFPIEVRHYLAQWIESQPWDAI...</td>\n",
       "      <td>[[CN(CC(=O)N(Cc1ccc(C2CCCCC2)cc1)c1ccc(C(=O)O)...</td>\n",
       "    </tr>\n",
       "    <tr>\n",
       "      <th>1046</th>\n",
       "      <td>MAAAYLDPNLNHTPSSSTKTHLGTGMERSPGAMERVLKVFHYFESS...</td>\n",
       "      <td>[[NC(=O)Cc1ccccc1CCc1nc(Nc2ccc(C3CCNCC3)cc2OC(...</td>\n",
       "    </tr>\n",
       "  </tbody>\n",
       "</table>\n",
       "<p>1047 rows × 2 columns</p>\n",
       "</div>"
      ],
      "text/plain": [
       "                                         protein_target  \\\n",
       "0     MPHEPHEPLTPPFSALPDPAGAPSRRQSRQRPQLSSDSPSAFRASR...   \n",
       "1     MSHHWGYGKHNGPEHWHKDFPIAKGERQSPVDIDTHTAKYDPSLKP...   \n",
       "2     MDPLNLSWYDDDLERQNWSRPFNGSEGKADRPHYNYYAMLLTLLIF...   \n",
       "3     MDRSKENCISGPVKATAPVGGPKRVLVTQQFPCQNPLPVNSGQAQR...   \n",
       "4     MRVVVIGAGVIGLSTALCIHERYHSVLQPLDIKVYADRFTPLTTTD...   \n",
       "...                                                 ...   \n",
       "1042  MARARPPPPPSPPPGLLPLLPPLLLLPLLLLPAGCRALEETLMDTK...   \n",
       "1043  MRANDALQVLGLLFSLARGSEVGNSQAVCPGTLNGLSVTGDAENQY...   \n",
       "1044  MDDKDIDKELRQKLNFSYCEETEIEGQKKVEESREASSQTPEKGEV...   \n",
       "1045  MAGWIQAQQLQGDALRQMQVLYGQHFPIEVRHYLAQWIESQPWDAI...   \n",
       "1046  MAAAYLDPNLNHTPSSSTKTHLGTGMERSPGAMERVLKVFHYFESS...   \n",
       "\n",
       "                                  smiles_and_affinities  \n",
       "0     [[CC(C)N1NC(=C2C=c3cc(O)ccc3=N2)c2c(N)ncnc21, ...  \n",
       "1     [[CNC(=O)c1ccc(S(N)(=O)=O)cc1, 0], [Nc1ccc(CC(...  \n",
       "2     [[Oc1cc2c(cc1O)C1c3ccccc3CNC1CC2, 0], [CC(C)CC...  \n",
       "3     [[Cc1cc(Nc2nc(Sc3ccc(NC(=O)CN4CCC(O)C4)cc3)nn3...  \n",
       "4     [[O=c1[nH]c2ccc(F)cc2cc1O, 1], [O=C(O)c1cc(CCc...  \n",
       "...                                                 ...  \n",
       "1042  [[Cc1ccc(O)cc1Nc1ccnc(Nc2cccc(C(N)=O)c2)n1, 1]...  \n",
       "1043  [[C=CC(=O)Nc1cc2c(Nc3ccc(F)c(Cl)c3)ncnc2cc1OCC...  \n",
       "1044  [[Cc1cnc(Nc2ccc(OCCN3CCCC3)cc2)nc1Nc1cccc(S(=O...  \n",
       "1045  [[CN(CC(=O)N(Cc1ccc(C2CCCCC2)cc1)c1ccc(C(=O)O)...  \n",
       "1046  [[NC(=O)Cc1ccccc1CCc1nc(Nc2ccc(C3CCNCC3)cc2OC(...  \n",
       "\n",
       "[1047 rows x 2 columns]"
      ]
     },
     "execution_count": 48,
     "metadata": {},
     "output_type": "execute_result"
    }
   ],
   "source": [
    "df"
   ]
  },
  {
   "cell_type": "code",
   "execution_count": 7,
   "metadata": {},
   "outputs": [
    {
     "ename": "IndentationError",
     "evalue": "expected an indented block (4179217252.py, line 2)",
     "output_type": "error",
     "traceback": [
      "\u001b[0;36m  Cell \u001b[0;32mIn [7], line 2\u001b[0;36m\u001b[0m\n\u001b[0;31m    \u001b[0m\n\u001b[0m    ^\u001b[0m\n\u001b[0;31mIndentationError\u001b[0m\u001b[0;31m:\u001b[0m expected an indented block\n"
     ]
    }
   ],
   "source": [
    "class DataGenerator(IterableDataset):\n",
    "    \"\"\"\n",
    "    Class for generating batches of target protein affinity data.\n",
    "    \"\"\"\n",
    "\n",
    "    def __init__(self, ):\n",
    "        self.\n",
    "\n",
    "    def __getitem__(self, ):\n",
    "        \"\"\"\n",
    "        1. Randomly sample protein target\n",
    "        2. Randmly sample k + 1 ligands from the selected protein (k in support, 1 in query)\n",
    "        Returns: \n",
    "            Tuple containing\n",
    "                1. Batch of SMILES embeddings (K+1, 2, 767)\n",
    "                2. Batch of one-hot activity labels (K+1, 2, 767)\n",
    "        \"\"\"\n",
    "        # Sample protein target\n"
   ]
  },
  {
   "cell_type": "code",
   "execution_count": null,
   "metadata": {},
   "outputs": [],
   "source": []
  }
 ],
 "metadata": {
  "kernelspec": {
   "display_name": "Python 3.9.13 ('cs330')",
   "language": "python",
   "name": "python3"
  },
  "language_info": {
   "codemirror_mode": {
    "name": "ipython",
    "version": 3
   },
   "file_extension": ".py",
   "mimetype": "text/x-python",
   "name": "python",
   "nbconvert_exporter": "python",
   "pygments_lexer": "ipython3",
   "version": "3.9.13"
  },
  "orig_nbformat": 4,
  "vscode": {
   "interpreter": {
    "hash": "411970a4c113e84c486338039ec980b217258c316ac659742fac33b33a5986ab"
   }
  }
 },
 "nbformat": 4,
 "nbformat_minor": 2
}
