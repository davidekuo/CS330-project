{
 "cells": [
  {
   "cell_type": "code",
   "execution_count": 1,
   "metadata": {},
   "outputs": [
    {
     "name": "stderr",
     "output_type": "stream",
     "text": [
      "/anaconda/envs/cs330/lib/python3.8/site-packages/tqdm/auto.py:22: TqdmWarning: IProgress not found. Please update jupyter and ipywidgets. See https://ipywidgets.readthedocs.io/en/stable/user_install.html\n",
      "  from .autonotebook import tqdm as notebook_tqdm\n"
     ]
    }
   ],
   "source": [
    "import json\n",
    "import torch\n",
    "from torch.utils.data import IterableDataset\n",
    "import pandas as pd\n",
    "import numpy as np\n",
    "from collections import defaultdict\n",
    "from transformers import AutoTokenizer, AutoModelForMaskedLM\n",
    "import pickle\n",
    "from tqdm import tqdm"
   ]
  },
  {
   "cell_type": "code",
   "execution_count": 2,
   "metadata": {},
   "outputs": [
    {
     "data": {
      "text/html": [
       "<div>\n",
       "<style scoped>\n",
       "    .dataframe tbody tr th:only-of-type {\n",
       "        vertical-align: middle;\n",
       "    }\n",
       "\n",
       "    .dataframe tbody tr th {\n",
       "        vertical-align: top;\n",
       "    }\n",
       "\n",
       "    .dataframe thead th {\n",
       "        text-align: right;\n",
       "    }\n",
       "</style>\n",
       "<table border=\"1\" class=\"dataframe\">\n",
       "  <thead>\n",
       "    <tr style=\"text-align: right;\">\n",
       "      <th></th>\n",
       "      <th>protein_target</th>\n",
       "      <th>smiles_1</th>\n",
       "      <th>smiles_0</th>\n",
       "    </tr>\n",
       "  </thead>\n",
       "  <tbody>\n",
       "    <tr>\n",
       "      <th>0</th>\n",
       "      <td>MPHEPHEPLTPPFSALPDPAGAPSRRQSRQRPQLSSDSPSAFRASR...</td>\n",
       "      <td>[[CCN1C(=CC(C)=O)Sc2ccc(OC)cc21, 1], [CC12OC(C...</td>\n",
       "      <td>[[CC(C)N1NC(=C2C=c3cc(O)ccc3=N2)c2c(N)ncnc21, ...</td>\n",
       "    </tr>\n",
       "    <tr>\n",
       "      <th>1</th>\n",
       "      <td>MSHHWGYGKHNGPEHWHKDFPIAKGERQSPVDIDTHTAKYDPSLKP...</td>\n",
       "      <td>[[CSc1nc2ccccc2n1CC(=O)c1ccc(S(N)(=O)=O)cc1, 1...</td>\n",
       "      <td>[[CNC(=O)c1ccc(S(N)(=O)=O)cc1, 0], [Nc1ccc(CC(...</td>\n",
       "    </tr>\n",
       "    <tr>\n",
       "      <th>2</th>\n",
       "      <td>MDPLNLSWYDDDLERQNWSRPFNGSEGKADRPHYNYYAMLLTLLIF...</td>\n",
       "      <td>[[CC(C)CC1C(=O)N2CCCC2C2(O)OC(NC(=O)C3C=C4c5cc...</td>\n",
       "      <td>[[Oc1cc2c(cc1O)C1c3ccccc3CNC1CC2, 0], [CCCN1Cc...</td>\n",
       "    </tr>\n",
       "    <tr>\n",
       "      <th>3</th>\n",
       "      <td>MDRSKENCISGPVKATAPVGGPKRVLVTQQFPCQNPLPVNSGQAQR...</td>\n",
       "      <td>[[Cc1cc(Nc2nc(Sc3ccc(NC(=O)CN4CCC(O)C4)cc3)nn3...</td>\n",
       "      <td>[[CC(Oc1cc(-c2cnn(C3CCNCC3)c2)cnc1N)c1c(Cl)ccc...</td>\n",
       "    </tr>\n",
       "    <tr>\n",
       "      <th>4</th>\n",
       "      <td>MRVVVIGAGVIGLSTALCIHERYHSVLQPLDIKVYADRFTPLTTTD...</td>\n",
       "      <td>[[O=c1[nH]c2ccc(F)cc2cc1O, 1], [O=c1[nH]c2ccc(...</td>\n",
       "      <td>[[O=C(O)c1cc(CCc2ccc(Cl)cc2)c[nH]1, 0], [O=c1o...</td>\n",
       "    </tr>\n",
       "  </tbody>\n",
       "</table>\n",
       "</div>"
      ],
      "text/plain": [
       "                                      protein_target  \\\n",
       "0  MPHEPHEPLTPPFSALPDPAGAPSRRQSRQRPQLSSDSPSAFRASR...   \n",
       "1  MSHHWGYGKHNGPEHWHKDFPIAKGERQSPVDIDTHTAKYDPSLKP...   \n",
       "2  MDPLNLSWYDDDLERQNWSRPFNGSEGKADRPHYNYYAMLLTLLIF...   \n",
       "3  MDRSKENCISGPVKATAPVGGPKRVLVTQQFPCQNPLPVNSGQAQR...   \n",
       "4  MRVVVIGAGVIGLSTALCIHERYHSVLQPLDIKVYADRFTPLTTTD...   \n",
       "\n",
       "                                            smiles_1  \\\n",
       "0  [[CCN1C(=CC(C)=O)Sc2ccc(OC)cc21, 1], [CC12OC(C...   \n",
       "1  [[CSc1nc2ccccc2n1CC(=O)c1ccc(S(N)(=O)=O)cc1, 1...   \n",
       "2  [[CC(C)CC1C(=O)N2CCCC2C2(O)OC(NC(=O)C3C=C4c5cc...   \n",
       "3  [[Cc1cc(Nc2nc(Sc3ccc(NC(=O)CN4CCC(O)C4)cc3)nn3...   \n",
       "4  [[O=c1[nH]c2ccc(F)cc2cc1O, 1], [O=c1[nH]c2ccc(...   \n",
       "\n",
       "                                            smiles_0  \n",
       "0  [[CC(C)N1NC(=C2C=c3cc(O)ccc3=N2)c2c(N)ncnc21, ...  \n",
       "1  [[CNC(=O)c1ccc(S(N)(=O)=O)cc1, 0], [Nc1ccc(CC(...  \n",
       "2  [[Oc1cc2c(cc1O)C1c3ccccc3CNC1CC2, 0], [CCCN1Cc...  \n",
       "3  [[CC(Oc1cc(-c2cnn(C3CCNCC3)c2)cnc1N)c1c(Cl)ccc...  \n",
       "4  [[O=C(O)c1cc(CCc2ccc(Cl)cc2)c[nH]1, 0], [O=c1o...  "
      ]
     },
     "execution_count": 2,
     "metadata": {},
     "output_type": "execute_result"
    }
   ],
   "source": [
    "data_dict = json.load(open('data/dataset.json'))\n",
    "df = pd.DataFrame(data_dict)\n",
    "df.head()"
   ]
  },
  {
   "cell_type": "code",
   "execution_count": null,
   "metadata": {},
   "outputs": [],
   "source": [
    "# Creating a dataframe with 50%\n",
    "# values of original dataframe\n",
    "train_df = df.sample(frac = 0.8)\n",
    " \n",
    "# Creating dataframe with\n",
    "# rest of the 50% values\n",
    "test_df = df.drop(train_df.index)"
   ]
  },
  {
   "cell_type": "code",
   "execution_count": null,
   "metadata": {},
   "outputs": [],
   "source": [
    "train_df[:100].to_json('data/train.json')\n",
    "test_df[:10].to_json('data/test.json')"
   ]
  },
  {
   "cell_type": "markdown",
   "metadata": {},
   "source": [
    "### Precompute SMILES embeddings"
   ]
  },
  {
   "cell_type": "code",
   "execution_count": 3,
   "metadata": {},
   "outputs": [],
   "source": [
    "all_smiles = set()\n",
    "\n",
    "for l in df.smiles_0:\n",
    "    l = map(lambda x: x[0], l)\n",
    "    all_smiles.update(l)\n",
    "\n",
    "for l in df.smiles_1:\n",
    "    l = map(lambda x: x[0], l)\n",
    "    all_smiles.update(l)"
   ]
  },
  {
   "cell_type": "code",
   "execution_count": 4,
   "metadata": {},
   "outputs": [
    {
     "name": "stderr",
     "output_type": "stream",
     "text": [
      "Downloading: 100%|██████████| 166/166 [00:00<00:00, 154kB/s]\n",
      "Downloading: 100%|██████████| 501/501 [00:00<00:00, 483kB/s]\n",
      "Downloading: 100%|██████████| 9.43k/9.43k [00:00<00:00, 6.24MB/s]\n",
      "Downloading: 100%|██████████| 3.21k/3.21k [00:00<00:00, 2.85MB/s]\n",
      "Downloading: 100%|██████████| 150/150 [00:00<00:00, 146kB/s]\n",
      "Downloading: 100%|██████████| 179M/179M [00:04<00:00, 36.6MB/s] \n"
     ]
    }
   ],
   "source": [
    "smiles_tokenizer = AutoTokenizer.from_pretrained(\"seyonec/ChemBERTa-zinc-base-v1\")\n",
    "smiles_model = AutoModelForMaskedLM.from_pretrained(\"seyonec/ChemBERTa-zinc-base-v1\")"
   ]
  },
  {
   "cell_type": "code",
   "execution_count": 5,
   "metadata": {},
   "outputs": [],
   "source": [
    "def get_smiles_embeddings(smiles_inputs, tokenizer, model):\n",
    "    \"\"\"\n",
    "    Returns a tensor of pretrained SMILES embeddings for the given SMILES inputs.\n",
    "    \"\"\"    \n",
    "    smiles_tokenized_inputs = tokenizer(smiles_inputs, padding=True, truncation=True, return_tensors=\"pt\")\n",
    "    smiles_raw_outputs = model(**smiles_tokenized_inputs)\n",
    "\n",
    "    smiles_mask = torch.unsqueeze(smiles_tokenized_inputs['attention_mask'], dim=2)\n",
    "    smiles_logits = smiles_raw_outputs.logits\n",
    "    smiles_logits = smiles_logits.masked_fill(smiles_mask == 0, 0)\n",
    "\n",
    "    # pooled_smiles_embeddings = torch.sum(smiles_logits, dim=1) \n",
    "    seq_lens = torch.sum(smiles_tokenized_inputs['attention_mask'], dim=1)\n",
    "    seq_lens = seq_lens.reshape((-1,1,1))\n",
    "    smiles_logits_avg = torch.sum(smiles_logits / seq_lens, dim=1)\n",
    "\n",
    "    return smiles_logits_avg"
   ]
  },
  {
   "cell_type": "code",
   "execution_count": 6,
   "metadata": {},
   "outputs": [
    {
     "name": "stderr",
     "output_type": "stream",
     "text": [
      "  5%|▍         | 390/7862 [00:13<03:23, 36.78it/s]"
     ]
    }
   ],
   "source": [
    "smiles_to_embeddings = {}\n",
    "for smiles in tqdm(all_smiles):\n",
    "    embed = get_smiles_embeddings([smiles], smiles_tokenizer, smiles_model)\n",
    "    smiles_to_embeddings[smiles] = embed[0].detach().numpy()"
   ]
  },
  {
   "cell_type": "code",
   "execution_count": null,
   "metadata": {},
   "outputs": [],
   "source": [
    "with open('data/smiles_to_embeddings.pickle', 'wb') as f:\n",
    "    pickle.dump(smiles_to_embeddings, f, protocol=pickle.HIGHEST_PROTOCOL)"
   ]
  },
  {
   "cell_type": "code",
   "execution_count": null,
   "metadata": {},
   "outputs": [],
   "source": [
    "with open('data/smiles_to_embeddings.pickle', 'rb') as f:\n",
    "    loaded = pickle.load(f)"
   ]
  }
 ],
 "metadata": {
  "kernelspec": {
   "display_name": "Python 3.8.13 ('cs330')",
   "language": "python",
   "name": "python3"
  },
  "language_info": {
   "codemirror_mode": {
    "name": "ipython",
    "version": 3
   },
   "file_extension": ".py",
   "mimetype": "text/x-python",
   "name": "python",
   "nbconvert_exporter": "python",
   "pygments_lexer": "ipython3",
   "version": "3.8.13"
  },
  "orig_nbformat": 4,
  "vscode": {
   "interpreter": {
    "hash": "b0ff75cf23da80adcc9f356df2f104d0dd849597226f7b6e4b651ec67f115766"
   }
  }
 },
 "nbformat": 4,
 "nbformat_minor": 2
}
