{
 "cells": [
  {
   "cell_type": "code",
   "execution_count": 5,
   "metadata": {},
   "outputs": [],
   "source": [
    "import argparse\n",
    "import random\n",
    "import json\n",
    "\n",
    "import numpy as np\n",
    "import pandas as pd\n",
    "\n",
    "import torch\n",
    "from torch import nn, Tensor\n",
    "import torch.nn.functional as F\n",
    "from torch.utils.tensorboard import SummaryWriter\n",
    "\n",
    "from data_loader import DataGenerator\n",
    "from tqdm import tqdm\n",
    "\n",
    "from hw1_copy import MANN"
   ]
  },
  {
   "cell_type": "code",
   "execution_count": 7,
   "metadata": {},
   "outputs": [],
   "source": [
    "if torch.cuda.is_available():\n",
    "    device = torch.device(\"cuda\")\n",
    "else:\n",
    "    device = torch.device(\"cpu\")\n"
   ]
  },
  {
   "cell_type": "code",
   "execution_count": 14,
   "metadata": {},
   "outputs": [],
   "source": [
    "k = 5\n",
    "meta_batch_size = 128\n",
    "num_classes = 2"
   ]
  },
  {
   "cell_type": "code",
   "execution_count": 15,
   "metadata": {},
   "outputs": [
    {
     "data": {
      "text/plain": [
       "MANN(\n",
       "  (layer1): LSTM(769, 128, batch_first=True)\n",
       "  (dropout): Dropout(p=0.35, inplace=False)\n",
       "  (layer2): LSTM(128, 2, batch_first=True)\n",
       ")"
      ]
     },
     "execution_count": 15,
     "metadata": {},
     "output_type": "execute_result"
    }
   ],
   "source": [
    "test_iterable = DataGenerator(\n",
    "    data_json_path=f'data/test.json',\n",
    "    k=k,\n",
    "    repr=\"smiles_only\",\n",
    ")\n",
    "test_loader = iter(\n",
    "    torch.utils.data.DataLoader(\n",
    "        test_iterable,\n",
    "        batch_size=meta_batch_size,\n",
    "        num_workers=4,\n",
    "        pin_memory=True,\n",
    "    )\n",
    ")\n",
    "\n",
    "model = torch.load(\"model/model.pt\")\n",
    "model.to(device)"
   ]
  },
  {
   "cell_type": "code",
   "execution_count": 33,
   "metadata": {},
   "outputs": [
    {
     "name": "stderr",
     "output_type": "stream",
     "text": [
      "100%|██████████| 1000/1000 [00:26<00:00, 37.94it/s]\n"
     ]
    }
   ],
   "source": [
    "num_correct = 0\n",
    "N = 1000\n",
    "for _ in tqdm(range(N)):\n",
    "    i, l = next(test_loader)\n",
    "    i, l = i.to(device), l.to(device)\n",
    "    pred = model(i, l).detach()\n",
    "\n",
    "    pred = torch.reshape(\n",
    "        pred,\n",
    "        [\n",
    "            -1,\n",
    "            k + 1,\n",
    "            num_classes,\n",
    "            num_classes,\n",
    "        ],\n",
    "    )\n",
    "    pred = torch.argmax(pred[:, -1, :, :], axis=2)\n",
    "    l = torch.argmax(l[:, -1, :, :], axis=2)\n",
    "    num_correct += pred.eq(l).sum().item()"
   ]
  },
  {
   "cell_type": "code",
   "execution_count": 36,
   "metadata": {},
   "outputs": [
    {
     "name": "stdout",
     "output_type": "stream",
     "text": [
      "Test accuracy 0.64705078125\n"
     ]
    }
   ],
   "source": [
    "print(\"Test accuracy\", num_correct / (meta_batch_size * num_classes * N))"
   ]
  },
  {
   "cell_type": "code",
   "execution_count": null,
   "metadata": {},
   "outputs": [],
   "source": []
  }
 ],
 "metadata": {
  "kernelspec": {
   "display_name": "Python 3.8.13 ('cs330')",
   "language": "python",
   "name": "python3"
  },
  "language_info": {
   "codemirror_mode": {
    "name": "ipython",
    "version": 3
   },
   "file_extension": ".py",
   "mimetype": "text/x-python",
   "name": "python",
   "nbconvert_exporter": "python",
   "pygments_lexer": "ipython3",
   "version": "3.8.13"
  },
  "orig_nbformat": 4,
  "vscode": {
   "interpreter": {
    "hash": "b0ff75cf23da80adcc9f356df2f104d0dd849597226f7b6e4b651ec67f115766"
   }
  }
 },
 "nbformat": 4,
 "nbformat_minor": 2
}
